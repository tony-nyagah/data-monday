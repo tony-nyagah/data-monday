{
 "cells": [
  {
   "cell_type": "code",
   "execution_count": null,
   "metadata": {},
   "outputs": [],
   "source": [
    "# Imports\n",
    "import pandas as pd\n",
    "import numpy as np\n",
    "\n",
    "import matplotlib.pyplot as plt\n",
    "import seaborn as sns\n",
    "\n",
    "import plotly.express as px\n",
    "import plotly.graph_objects as go\n",
    "\n",
    "from geopy.geocoders import Nominatim\n",
    "\n",
    "import folium\n",
    "\n",
    "# hide warnings\n",
    "import warnings\n",
    "warnings.filterwarnings(\"ignore\")"
   ]
  },
  {
   "cell_type": "code",
   "execution_count": null,
   "metadata": {},
   "outputs": [],
   "source": [
    "# Load the health facilities dataset\n",
    "health_facilities_df = pd.read_excel(\n",
    "    \"data/health-facilities-data-kenya.xlsx\"\n",
    ")\n",
    "health_facilities_df.head(5)"
   ]
  },
  {
   "cell_type": "code",
   "execution_count": null,
   "metadata": {},
   "outputs": [],
   "source": [
    "population_df = pd.read_csv(\"data/kenya-population-by-sex-and-county.csv\")\n",
    "population_df.head(5)"
   ]
  },
  {
   "cell_type": "markdown",
   "metadata": {},
   "source": [
    "### Exploratory Data Analysis"
   ]
  },
  {
   "cell_type": "code",
   "execution_count": null,
   "metadata": {},
   "outputs": [],
   "source": [
    "# Get the shape of the health facilities data\n",
    "health_facilities_df.shape"
   ]
  },
  {
   "cell_type": "code",
   "execution_count": null,
   "metadata": {},
   "outputs": [],
   "source": [
    "# Get columns in the health facilities dataframe\n",
    "health_facilities_df.info()"
   ]
  },
  {
   "cell_type": "code",
   "execution_count": null,
   "metadata": {},
   "outputs": [],
   "source": [
    "# Determine the number of provinces in the df\n",
    "provinces = health_facilities_df.Province.unique()\n",
    "provinces"
   ]
  },
  {
   "cell_type": "code",
   "execution_count": null,
   "metadata": {},
   "outputs": [],
   "source": [
    "# Determine the number of counties in the df\n",
    "counties = health_facilities_df.County.unique()\n",
    "counties"
   ]
  },
  {
   "cell_type": "code",
   "execution_count": null,
   "metadata": {},
   "outputs": [],
   "source": [
    "# Get only Nairobi county for this analysis\n",
    "health_facilities_nairobi_df = health_facilities_df.query(\"County == 'Nairobi'\")\n",
    "health_facilities_nairobi_df.head(5)"
   ]
  },
  {
   "cell_type": "code",
   "execution_count": null,
   "metadata": {},
   "outputs": [],
   "source": [
    "# Get the shape/stats of the Nairobi facilities dataframe\n",
    "print(f\"Data shape: {health_facilities_nairobi_df.shape}\")\n",
    "print(\"---------------------------------\")\n",
    "print(health_facilities_nairobi_df.info())"
   ]
  },
  {
   "cell_type": "markdown",
   "metadata": {},
   "source": [
    "We have a total of 942 facilities in Nairobi dataset, the facility code and facility name rows match meaning they are all unique and no null values."
   ]
  },
  {
   "cell_type": "markdown",
   "metadata": {},
   "source": [
    "### Explore facilities location and distribution in Nairobi county"
   ]
  },
  {
   "cell_type": "code",
   "execution_count": null,
   "metadata": {},
   "outputs": [],
   "source": [
    "# Administrative groups count\n",
    "districts = health_facilities_nairobi_df[\"District\"].nunique()\n",
    "divisions = health_facilities_nairobi_df[\"Division\"].nunique()\n",
    "locations = health_facilities_nairobi_df[\"Location\"].nunique()\n",
    "sub_locations = health_facilities_nairobi_df[\"Sub Location\"].nunique()\n",
    "\n",
    "print(\"Number of individual administrative areas in the Nairobi dataframe\")\n",
    "print(f\"Number of districts: {districts}\")\n",
    "print(f\"Number of divisions: {divisions}\")\n",
    "print(f\"Number of locations: {locations}\")\n",
    "print(f\"Number of sub_locations: {sub_locations}\")"
   ]
  },
  {
   "cell_type": "code",
   "execution_count": null,
   "metadata": {},
   "outputs": [],
   "source": [
    "# Get health facility distribution per district in Nairobi\n",
    "district_health_facilities_nbi = (\n",
    "    health_facilities_nairobi_df.groupby(\"District\")\n",
    "    .size()\n",
    "    .reset_index(name=\"Number of Facilities\")\n",
    "    .sort_values(by=\"Number of Facilities\", ascending=False)\n",
    ")\n",
    "district_health_facilities_nbi"
   ]
  },
  {
   "cell_type": "code",
   "execution_count": null,
   "metadata": {},
   "outputs": [],
   "source": [
    "# Visualize this data on a map of Kenya\n",
    "# First we get the latitudes and longitudes of each district\n",
    "def get_coordinates(row):\n",
    "    geolocator = Nominatim(user_agent=\"kenya_healthcare\")\n",
    "\n",
    "    address = f\"{row['District']}, Kenya\"\n",
    "    location = geolocator.geocode(address)\n",
    "\n",
    "    try:\n",
    "        if location:\n",
    "            return location.latitude, location.longitude\n",
    "        else:\n",
    "            return None, None\n",
    "    except:\n",
    "        return None, None\n",
    "\n",
    "# Create a new column for latitudes and longitudes\n",
    "district_health_facilities_nbi[[\"Latitude\", \"Longitude\"]] = district_health_facilities_nbi.apply(get_coordinates, axis=1, result_type=\"expand\")\n",
    "\n",
    "# Save the dataframe just in case\n",
    "district_health_facilities_nbi.to_csv(\"data/nairobi-health-facilities-locations.csv\")\n",
    "\n",
    "district_health_facilities_nbi.head()"
   ]
  },
  {
   "cell_type": "code",
   "execution_count": null,
   "metadata": {},
   "outputs": [],
   "source": [
    "# We put the data on a map\n",
    "# Text we see when we hover over a district\n",
    "district_health_facilities_nbi[\"Text\"] = (\n",
    "    district_health_facilities_nbi[\"District\"]\n",
    "    + \"<br>Total health facilities: \"\n",
    "    + district_health_facilities_nbi[\"Number of Facilities\"].astype(str)\n",
    ")\n",
    "\n",
    "nairobi_lat, nairobi_long = -1.28333, 36.81667\n",
    "nairobi_map = folium.Map(location=[nairobi_lat, nairobi_long], zoom_start=10, control_scale=True)\n",
    "nairobi_map"
   ]
  },
  {
   "cell_type": "code",
   "execution_count": null,
   "metadata": {},
   "outputs": [],
   "source": [
    "fig = px.scatter_mapbox(\n",
    "    district_health_facilities_nbi,\n",
    "    lat=\"Latitude\",\n",
    "    lon=\"Longitude\",\n",
    "    size=\"Number of Facilities\",\n",
    "    zoom=10,\n",
    "    mapbox_style=\"open-street-map\",\n",
    "    hover_name=\"District\"\n",
    ")\n",
    "fig.show()"
   ]
  }
 ],
 "metadata": {
  "kernelspec": {
   "display_name": ".venv",
   "language": "python",
   "name": "python3"
  },
  "language_info": {
   "codemirror_mode": {
    "name": "ipython",
    "version": 3
   },
   "file_extension": ".py",
   "mimetype": "text/x-python",
   "name": "python",
   "nbconvert_exporter": "python",
   "pygments_lexer": "ipython3",
   "version": "3.10.12"
  }
 },
 "nbformat": 4,
 "nbformat_minor": 2
}
