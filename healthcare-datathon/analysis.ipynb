{
  "cells": [
    {
      "cell_type": "markdown",
      "metadata": {
        "id": "ioPXkN8yp8RF"
      },
      "source": [
        "Original notebook: https://colab.research.google.com/drive/1FOczd5Gq9NSvEcosZcpTCWltEgN9q6X1?usp=sharing#scrollTo=70aae7d57446dca3"
      ]
    },
    {
      "cell_type": "markdown",
      "metadata": {
        "id": "TiU1xEhPnFOl"
      },
      "source": [
        "## Data Preparation"
      ]
    },
    {
      "cell_type": "markdown",
      "metadata": {
        "id": "_VJqPWcbnFOo"
      },
      "source": [
        "### Import Libraries"
      ]
    },
    {
      "cell_type": "code",
      "execution_count": null,
      "metadata": {
        "id": "i5f8Y__dnFOq"
      },
      "outputs": [],
      "source": [
        "import pandas as pd\n",
        "import plotly.express as px\n",
        "from geopy.geocoders import Nominatim\n",
        "import seaborn as sns\n",
        "import matplotlib.pyplot as plt\n",
        "from sklearn.linear_model import LinearRegression\n",
        "import numpy as np\n",
        "\n",
        "# ignore pandas warning\n",
        "import warnings\n",
        "\n",
        "warnings.filterwarnings(\"ignore\")"
      ]
    },
    {
      "cell_type": "markdown",
      "metadata": {
        "id": "75OxmQAVnFOr"
      },
      "source": [
        "### Load Data"
      ]
    },
    {
      "cell_type": "markdown",
      "metadata": {
        "id": "9KD8hEsPnFOr"
      },
      "source": [
        "First we get the data in regards to health facilities in Kenya.    \n",
        "We will remane the district to sub-county in the dataset since districts were renamed to subcounties."
      ]
    },
    {
      "cell_type": "code",
      "execution_count": null,
      "metadata": {
        "colab": {
          "base_uri": "https://localhost:8080/",
          "height": 391
        },
        "id": "89i-PgxlnFOs",
        "outputId": "4732e729-7521-4fa3-c876-413f5467c42a"
      },
      "outputs": [],
      "source": [
        "health_facilities_df = pd.read_excel(\"data/health-facilities-data-kenya.xlsx\")\n",
        "# rename district to sub county\n",
        "health_facilities_df = health_facilities_df.rename(columns={\"District\": \"Sub County\"})\n",
        "health_facilities_df.head(5)"
      ]
    },
    {
      "cell_type": "markdown",
      "metadata": {
        "id": "SyKrZWrgnFOt"
      },
      "source": [
        "Our  main county of focus will be Nairobi so we're going to focus on data in Nairobi.    "
      ]
    },
    {
      "cell_type": "code",
      "execution_count": null,
      "metadata": {
        "colab": {
          "base_uri": "https://localhost:8080/",
          "height": 479
        },
        "id": "-722gHUHnFOu",
        "outputId": "b6abe6a7-c081-4b48-f06c-5d5a7799f53e"
      },
      "outputs": [],
      "source": [
        "health_facilities_df_nairobi = health_facilities_df[\n",
        "    health_facilities_df[\"County\"] == \"Nairobi\"\n",
        "]\n",
        "\n",
        "health_facilities_df_nairobi.head(5)"
      ]
    },
    {
      "cell_type": "markdown",
      "metadata": {
        "id": "Jm-B96U3nFOv"
      },
      "source": [
        "We then get data on population density by sub-county. This will be used to determine whether facilities are accessible.    \n",
        "We rename the `National/County` field to `Sub County` since that's the data we'll be targeting."
      ]
    },
    {
      "cell_type": "code",
      "execution_count": null,
      "metadata": {
        "colab": {
          "base_uri": "https://localhost:8080/",
          "height": 363
        },
        "id": "8VukgLtlnFOw",
        "outputId": "0a333e76-0580-4fb0-d5f5-c4650244b1e5"
      },
      "outputs": [],
      "source": [
        "population_density_by_subcounty_df = pd.read_csv(\n",
        "    \"data/kenya-population-and-area-population-density_by_subcounty.csv\"\n",
        ")\n",
        "population_density_by_subcounty_df = population_density_by_subcounty_df.rename(\n",
        "    columns={\"National/ County\": \"Sub County\"}\n",
        ")\n",
        "population_density_by_subcounty_df.tail(10)"
      ]
    },
    {
      "cell_type": "markdown",
      "metadata": {
        "id": "gy9YDiwtnFOx"
      },
      "source": [
        "### Data Cleaning"
      ]
    },
    {
      "cell_type": "markdown",
      "metadata": {
        "id": "I3B29sG6nFOy"
      },
      "source": [
        "At a quick glance, the names in the `Sub County` section of the `population_density_by_subcounty_df` dataframe have some inconsistencies.    \n",
        "We'll remove the trailing spaces and the random `*` and `.` at the end of some sub-county names.    \n",
        "Since we'll only be dealing with Nairobi county as of now only 'Kibra' sub-county are affected by this, this should be fine."
      ]
    },
    {
      "cell_type": "code",
      "execution_count": null,
      "metadata": {
        "colab": {
          "base_uri": "https://localhost:8080/",
          "height": 363
        },
        "id": "SLwTd1BUnFOy",
        "outputId": "714885da-b3ce-4a60-a3e9-30ab74450d6d"
      },
      "outputs": [],
      "source": [
        "population_density_by_subcounty_df[\"Sub County\"] = population_density_by_subcounty_df[\"Sub County\"].str.replace(\"*\", \"\").str.replace(\".\", \"\")\n",
        "population_density_by_subcounty_df.tail(10)"
      ]
    },
    {
      "cell_type": "markdown",
      "metadata": {
        "id": "i4y1S8xinFOy"
      },
      "source": [
        "The data in `health_facilities_df_nairobi` is pretty clean as is."
      ]
    },
    {
      "cell_type": "markdown",
      "metadata": {
        "id": "KPgn0oG4nFOz"
      },
      "source": [
        "### Data Preprocessing"
      ]
    },
    {
      "cell_type": "markdown",
      "metadata": {
        "id": "Uuj_LoCGnFO0"
      },
      "source": [
        "First let's determine how many facilities are in each sub-county in Nairobi."
      ]
    },
    {
      "cell_type": "code",
      "execution_count": null,
      "metadata": {
        "colab": {
          "base_uri": "https://localhost:8080/",
          "height": 583
        },
        "id": "rvlJPBo9nFO0",
        "outputId": "0d8b4a8c-2823-47e2-986f-a70057d1eaa7"
      },
      "outputs": [],
      "source": [
        "nairobi_facilities_count = (\n",
        "    health_facilities_df_nairobi.groupby(\"Sub County\")\n",
        "    .size()\n",
        "    .reset_index(name=\"Number of Facilities\")\n",
        "    .sort_values(by=\"Number of Facilities\", ascending=False)\n",
        ")\n",
        "nairobi_facilities_count"
      ]
    },
    {
      "cell_type": "markdown",
      "metadata": {
        "id": "ZNA-hEmWnFO0"
      },
      "source": [
        "Since all the Embakasi and Dagoretti sub-counties are counted as one sub-county in the population density dataframe, we'll merge them together.    \n",
        "The results were edited using Excel."
      ]
    },
    {
      "cell_type": "code",
      "execution_count": null,
      "metadata": {
        "colab": {
          "base_uri": "https://localhost:8080/",
          "height": 426
        },
        "id": "Ofpd5i2cnFO0",
        "outputId": "13ebe2c0-877e-4bcb-96be-2c48c663db1b"
      },
      "outputs": [],
      "source": [
        "nairobi_facilities_count = pd.read_csv(\"data/nairobi-health-facilities-locations.csv\")\n",
        "nairobi_facilities_count"
      ]
    },
    {
      "cell_type": "markdown",
      "metadata": {
        "id": "jsV263C3nFO1"
      },
      "source": [
        "#### Geocode facilities"
      ]
    },
    {
      "cell_type": "markdown",
      "metadata": {
        "id": "YF1UVHPpnFO1"
      },
      "source": [
        "A good way to check the distribution of facilities is to plot them on a map. This will provide near immediate visual insights into the distribution of facilities."
      ]
    },
    {
      "cell_type": "code",
      "execution_count": null,
      "metadata": {
        "id": "T8qr7pJDnFO1"
      },
      "outputs": [],
      "source": [
        "def get_coordinates(row):\n",
        "    \"\"\"This code takes a pandas row and returns a tuple of latitude and longitude.\n",
        "\n",
        "    Args:\n",
        "        row (pandas.core.series.Series): pandas row\n",
        "\n",
        "    Returns:\n",
        "        tuple: latitude and longitude\n",
        "    \"\"\"\n",
        "    geolocator = Nominatim(user_agent=\"kenya_healthcare\")\n",
        "\n",
        "    address = f\"{row['Sub County']}, Nairobi, Kenya\"\n",
        "    location = geolocator.geocode(address)\n",
        "\n",
        "    try:\n",
        "        if location:\n",
        "            return location.latitude, location.longitude\n",
        "        else:\n",
        "            return None, None\n",
        "    except:\n",
        "        return None, None"
      ]
    },
    {
      "cell_type": "code",
      "execution_count": null,
      "metadata": {
        "colab": {
          "base_uri": "https://localhost:8080/",
          "height": 426
        },
        "id": "1kTLNt4DnFO2",
        "outputId": "2cd2b73c-f44b-4f0b-e7d9-552ca7ed96a4"
      },
      "outputs": [],
      "source": [
        "nairobi_facilities_count[[\"Latitude\", \"Longitude\"]] = nairobi_facilities_count.apply(\n",
        "    get_coordinates, axis=1, result_type=\"expand\"\n",
        ")\n",
        "nairobi_facilities_count = nairobi_facilities_count.sort_values(\n",
        "    by=\"Number of Facilities\", ascending=False\n",
        ")\n",
        "nairobi_facilities_count"
      ]
    },
    {
      "cell_type": "markdown",
      "metadata": {
        "id": "HbhbbzP-nFO2"
      },
      "source": [
        "## Exploratory Data Analysis"
      ]
    },
    {
      "cell_type": "markdown",
      "metadata": {
        "id": "QWSNQ4mznFO2"
      },
      "source": [
        "### Descriptive Statistics"
      ]
    },
    {
      "cell_type": "markdown",
      "metadata": {
        "id": "c_NHrmaLnFO2"
      },
      "source": [
        "Here we analyze basic statistics of the health facilities in Nairobi."
      ]
    },
    {
      "cell_type": "code",
      "execution_count": null,
      "metadata": {
        "colab": {
          "base_uri": "https://localhost:8080/"
        },
        "id": "l-PpCq-VnFO2",
        "outputId": "eda311ec-75f6-42d5-db3c-ad9b90e9cce3"
      },
      "outputs": [],
      "source": [
        "print(f\"Data shape: {health_facilities_df_nairobi.shape}\")\n",
        "print(\"-----------------------------\")\n",
        "print(health_facilities_df_nairobi.info())"
      ]
    },
    {
      "cell_type": "markdown",
      "metadata": {
        "id": "IsFWclF-nFO3"
      },
      "source": [
        "We have a total of 942 facilities in Nairobi dataset, the facility code and facility name rows match meaning they are all unique and no null values."
      ]
    },
    {
      "cell_type": "markdown",
      "metadata": {
        "id": "8256A7TDnFO3"
      },
      "source": [
        "### Data Visualizations"
      ]
    },
    {
      "cell_type": "markdown",
      "metadata": {
        "id": "bmShAreanFO4"
      },
      "source": [
        "Here we visualize various data in the dataset."
      ]
    },
    {
      "cell_type": "code",
      "execution_count": null,
      "metadata": {
        "id": "OJISHNvAnFO4"
      },
      "outputs": [],
      "source": [
        "sns.set_style(\"whitegrid\")"
      ]
    },
    {
      "cell_type": "markdown",
      "metadata": {
        "id": "KpMQpvO1nFO4"
      },
      "source": [
        "Let's look at the number of facilities in each sub-county in Nairobi."
      ]
    },
    {
      "cell_type": "code",
      "execution_count": null,
      "metadata": {
        "colab": {
          "base_uri": "https://localhost:8080/",
          "height": 472
        },
        "id": "jwRH8oOinFO4",
        "outputId": "6e7cd105-6b3b-46ec-f781-db1f6e11ef7b"
      },
      "outputs": [],
      "source": [
        "sns.barplot(\n",
        "    data=nairobi_facilities_count, x=\"Number of Facilities\", y=\"Sub County\", orient=\"y\"\n",
        ").set_title(\"Number of Health Facilities in Nairobi\");"
      ]
    },
    {
      "cell_type": "markdown",
      "metadata": {
        "id": "uibswE7vnFO4"
      },
      "source": [
        "Now let's view the data on a map."
      ]
    },
    {
      "cell_type": "code",
      "execution_count": null,
      "metadata": {
        "colab": {
          "base_uri": "https://localhost:8080/",
          "height": 542
        },
        "id": "AEljfuGwnFO4",
        "outputId": "13a1bb68-dff7-4eb9-c397-7f1b6aa7c5ca"
      },
      "outputs": [],
      "source": [
        "fig = px.scatter_mapbox(\n",
        "    data_frame=nairobi_facilities_count,\n",
        "    lat=\"Latitude\",\n",
        "    lon=\"Longitude\",\n",
        "    size=\"Number of Facilities\",\n",
        "    zoom=10,\n",
        "    mapbox_style=\"open-street-map\",\n",
        "    hover_name=\"Sub County\",\n",
        ")\n",
        "fig.show()"
      ]
    },
    {
      "cell_type": "markdown",
      "metadata": {
        "id": "MRJwXRqgnFO4"
      },
      "source": [
        "Embakasi sub-county has the highest number of facilities followed by Dagoretti and least is Westalnds.    \n",
        "The high number of facilities in said areas is because Dagoretti is separated into North and South and Embakasi is separated into North, South, East and West."
      ]
    },
    {
      "cell_type": "markdown",
      "metadata": {
        "id": "tRlnveJxnFO6"
      },
      "source": [
        "Let's have a look at the facility types in Nairobi."
      ]
    },
    {
      "cell_type": "code",
      "execution_count": null,
      "metadata": {
        "id": "fpT0b6P7nFO6"
      },
      "outputs": [],
      "source": [
        "facility_types = (\n",
        "    health_facilities_df_nairobi[\"Type\"].value_counts().sort_values(ascending=False)\n",
        ")"
      ]
    },
    {
      "cell_type": "code",
      "execution_count": null,
      "metadata": {
        "colab": {
          "base_uri": "https://localhost:8080/",
          "height": 472
        },
        "id": "eee8d0WsnFO6",
        "outputId": "ff823e6a-06d5-4a18-eaed-38429df409aa"
      },
      "outputs": [],
      "source": [
        "ax = sns.barplot(\n",
        "    data=pd.DataFrame(facility_types), x=facility_types, y=facility_types.index, orient=\"y\"\n",
        ").set_title(\"Types of Health Facilities in Nairobi\");\n",
        "plt.xlabel(\"Facility Type Count\");\n",
        "plt.ylabel(\"\");"
      ]
    },
    {
      "cell_type": "markdown",
      "metadata": {
        "id": "A4GK2aKNnFO6"
      },
      "source": [
        "Medical facilities are the most common type of health facility in Nairobi followed by dispensaries."
      ]
    },
    {
      "cell_type": "markdown",
      "metadata": {
        "id": "dfDV07CunFO7"
      },
      "source": [
        "Let us now look at job titles of those incharge within the health facilities in Nairobi."
      ]
    },
    {
      "cell_type": "code",
      "execution_count": null,
      "metadata": {
        "colab": {
          "base_uri": "https://localhost:8080/"
        },
        "id": "cipZYMGlnFO7",
        "outputId": "bfbab096-8e81-41d1-fdad-aebc59db5e0b"
      },
      "outputs": [],
      "source": [
        "job_title_incharge = health_facilities_df_nairobi[\"Job Title of in Charge\"].value_counts()\n",
        "job_title_incharge"
      ]
    },
    {
      "cell_type": "markdown",
      "metadata": {
        "id": "m6cHRdbOnFO7"
      },
      "source": [
        "A pie chart would be a good way to summarize this data."
      ]
    },
    {
      "cell_type": "code",
      "execution_count": null,
      "metadata": {
        "colab": {
          "base_uri": "https://localhost:8080/",
          "height": 521
        },
        "id": "B8NubQNJnFO7",
        "outputId": "e408812b-ef09-4b32-e15d-4bec6c3967db"
      },
      "outputs": [],
      "source": [
        "plt.figure(figsize=(6, 6))\n",
        "plt.pie(job_title_incharge, labels=job_title_incharge.index, autopct=\"%1.1f%%\");\n",
        "plt.title(\"Job Title of Those Incharge of Health Facilities in Nairobi\", fontweight=\"bold\");"
      ]
    },
    {
      "cell_type": "markdown",
      "metadata": {
        "id": "jpXkgn0EnFO8"
      },
      "source": [
        "As we can see most of the persons incharge of health facilities in Nairobi have the title `Nursing Officer in Charge`."
      ]
    },
    {
      "cell_type": "markdown",
      "metadata": {
        "id": "JhxSpNvtnFO8"
      },
      "source": [
        "What about ownership? Who owns most of the health facilities in Nairobi?"
      ]
    },
    {
      "cell_type": "code",
      "execution_count": null,
      "metadata": {
        "colab": {
          "base_uri": "https://localhost:8080/",
          "height": 708
        },
        "id": "XBDagX5TnFO8",
        "outputId": "25505602-762f-4797-c350-889dd6364968"
      },
      "outputs": [],
      "source": [
        "facilities_ownership = (\n",
        "   health_facilities_df_nairobi[\"Owner\"].value_counts().sort_values(ascending=False)\n",
        ")\n",
        "facilities_ownership_df = pd.DataFrame(facilities_ownership)\n",
        "facilities_ownership_df = facilities_ownership_df.reset_index()\n",
        "facilities_ownership_df"
      ]
    },
    {
      "cell_type": "code",
      "execution_count": null,
      "metadata": {
        "colab": {
          "base_uri": "https://localhost:8080/",
          "height": 472
        },
        "id": "RJv5MgbInFO9",
        "outputId": "a27d9276-d315-4ac9-e0d0-d6808dbff8c2"
      },
      "outputs": [],
      "source": [
        "ax = sns.barplot(\n",
        "    data=facilities_ownership_df,\n",
        "    x= \"count\",\n",
        "    y=\"Owner\",\n",
        ")\n",
        "ax.set_title(\"Health Facility Ownership in Nairobi\");\n",
        "plt.xlabel(\"Facility Ownership Count\");\n",
        "plt.ylabel(\"\");"
      ]
    },
    {
      "cell_type": "markdown",
      "metadata": {
        "id": "Av0ARC19nFO9"
      },
      "source": [
        "From the above we can see that most health facilities in Nairobi are privately owned with the government only starting to come in on ownership at around 5th place with the `Local Authority` label."
      ]
    },
    {
      "cell_type": "markdown",
      "metadata": {
        "id": "tiz5QF5KnFO9"
      },
      "source": [
        "## Feature Engineering"
      ]
    },
    {
      "cell_type": "markdown",
      "metadata": {
        "id": "kKyOIjhwnFO9"
      },
      "source": [
        "Here we determine the ratio of various aspects of the health facilities in Nairobi that affect accessibility."
      ]
    },
    {
      "cell_type": "markdown",
      "metadata": {
        "id": "jQKRwbCunFO-"
      },
      "source": [
        "We can start by combining the data in `health_facilities_df_nairobi` and `population_density_by_subcounty_df`.    \n",
        "This will help us determine the number of people each sub-county in Nairobi is expected to serve."
      ]
    },
    {
      "cell_type": "code",
      "execution_count": null,
      "metadata": {
        "colab": {
          "base_uri": "https://localhost:8080/",
          "height": 426
        },
        "id": "bVuKV_Ruud-9",
        "outputId": "5814cbcc-ac85-426d-b6cb-3f7f2be6d3be"
      },
      "outputs": [],
      "source": [
        "nairobi_facilities_count.sort_values(by=\"Sub County\", ascending=True, inplace=True)\n",
        "nairobi_facilities_count"
      ]
    },
    {
      "cell_type": "code",
      "execution_count": null,
      "metadata": {
        "colab": {
          "base_uri": "https://localhost:8080/",
          "height": 394
        },
        "id": "5OfxEWJYnFO-",
        "outputId": "e3ab57cf-bddd-4910-f563-0f189daf1aeb"
      },
      "outputs": [],
      "source": [
        "# Nairobi population data per sub-county\n",
        "nairobi_population_df = population_density_by_subcounty_df[385:]\n",
        "nairobi_population_df[\"Sub County\"] = (\n",
        "    nairobi_population_df[\"Sub County\"].str.replace(\".\", \"\").str.replace(\" \", \"\").str.replace(\"'\",\"\")\n",
        ")\n",
        "nairobi_population_df.sort_values(by=\"Sub County\", ascending=True, inplace=True)\n",
        "nairobi_population_df"
      ]
    },
    {
      "cell_type": "code",
      "execution_count": null,
      "metadata": {
        "colab": {
          "base_uri": "https://localhost:8080/",
          "height": 363
        },
        "id": "X1DdrYq6nFO-",
        "outputId": "e2cf5daf-837e-4132-dee7-ce146344b301"
      },
      "outputs": [],
      "source": [
        "nairobi_facility_population_df = pd.merge(nairobi_facilities_count,\n",
        "                                          nairobi_population_df,\n",
        "                                          on='Sub County',\n",
        "                                          how=\"left\")\n",
        "nairobi_facility_population_df = nairobi_facility_population_df.dropna()\n",
        "nairobi_facility_population_df[\"Population\"] = nairobi_facility_population_df[\"Population\"].astype(int)\n",
        "nairobi_facility_population_df"
      ]
    },
    {
      "cell_type": "markdown",
      "metadata": {
        "id": "yZNoabFLomYJ"
      },
      "source": [
        "## Hypothesis Testing"
      ]
    },
    {
      "cell_type": "markdown",
      "metadata": {
        "id": "0JD-AQFUr7g6"
      },
      "source": [
        "Our hypothesis when we started on the analysis was: **Regions with higher density have a greater number of healthcare facilities compared to regions with lower population density.**\n",
        "\n",
        "Rationale: **Denser populations might drive a higher demand for healthcare services, leading to more health facilities.**"
      ]
    },
    {
      "cell_type": "markdown",
      "metadata": {
        "id": "TvgY_ldLyUIN"
      },
      "source": [
        " According to a report by the Kenyan government, https://www.countdown2030.org/wp-content/uploads/2023/02/Infrastructure-Policy.pdf:    \n",
        " *The average national health\n",
        "facility density is 2.2 per 10,000 population which is slightly\n",
        "above the target of 2 per 10,000 population. (2018, KHFA).\n",
        "However, it is noted that there are geographical disparities with\n",
        "33 (70%) counties having health facility densities of 2 per 10,000\n",
        "population and above apart from Nandi, Kwale, Uasin Gishu,\n",
        "Nairobi, Busia, Bomet, Trans Nzoia, Kakamega, Narok, Vihiga,\n",
        "Wajir, Kisii, Bungoma and Mandera Counties with facility density\n",
        "of below 2 per 10,000 population*.  \n",
        "\n",
        "By knowing this we can try determining whether most facilities in Nairobi meet the minimum health facility density of 2 per 10,000 population."
      ]
    },
    {
      "cell_type": "code",
      "execution_count": null,
      "metadata": {
        "colab": {
          "base_uri": "https://localhost:8080/",
          "height": 363
        },
        "id": "LnVt-wWRonnK",
        "outputId": "a3a308e9-c249-4c3d-f9e7-84fbf1aaaf73"
      },
      "outputs": [],
      "source": [
        "nairobi_facility_population_df[\"Facilities per 10,000 People\"] = (nairobi_facility_population_df[\"Number of Facilities\"] / nairobi_facility_population_df[\"Population\"]) * 10000\n",
        "nairobi_facility_population_df"
      ]
    },
    {
      "cell_type": "markdown",
      "metadata": {
        "id": "93YinZvS1mAi"
      },
      "source": [
        "From the above data we can determine that most of the counties in Nairobi meet the threshhold health facility density of 2 per 10,000 people in the population."
      ]
    },
    {
      "cell_type": "markdown",
      "metadata": {
        "id": "1YCKx3dt7aXV"
      },
      "source": [
        "Next we determine the correlation between population density and the number of health facilities in a sub-county."
      ]
    },
    {
      "cell_type": "code",
      "execution_count": null,
      "metadata": {
        "colab": {
          "base_uri": "https://localhost:8080/"
        },
        "id": "TMGtik7r16gf",
        "outputId": "df503d7d-ce39-47e7-9088-ad36eb8ddbec"
      },
      "outputs": [],
      "source": [
        "correlation_matrix = nairobi_facility_population_df.corr(numeric_only=True)\n",
        "correlation = correlation_matrix.loc['Population', 'Number of Facilities']\n",
        "print(f'The Correlation of population and number of health facilities in Nairobi sub-counties is: {correlation}')"
      ]
    },
    {
      "cell_type": "markdown",
      "metadata": {
        "id": "hXp1vUP2_5xF"
      },
      "source": [
        "We can see a correlation coefficient of 0.747 between number of facilities and population which indicates a strong positive correlation between population and health facilities.\n",
        "This means that as the population increases, the number of health facilities also tends to increase."
      ]
    },
    {
      "cell_type": "markdown",
      "metadata": {
        "id": "A2rvi4qwAm9Y"
      },
      "source": [
        "To better visualize this information. Here is a linear regression representation:"
      ]
    },
    {
      "cell_type": "code",
      "execution_count": null,
      "metadata": {
        "colab": {
          "base_uri": "https://localhost:8080/",
          "height": 472
        },
        "id": "4fmznWyKBOSZ",
        "outputId": "c93bfffb-d595-40c2-e2f9-0766bdcf607e"
      },
      "outputs": [],
      "source": [
        "population = nairobi_facility_population_df[\"Population\"]\n",
        "facilities = nairobi_facility_population_df[\"Number of Facilities\"]\n",
        "\n",
        "# Reshape data for scikit-learn\n",
        "population = [[x] for x in population]  # Convert to 2D array\n",
        "\n",
        "# Create and fit the linear regression model\n",
        "model = LinearRegression()\n",
        "model.fit(population, facilities)\n",
        "\n",
        "# Generate predictions for the entire population range\n",
        "population_range = [[x] for x in range(min(population)[0], max(population)[0] + 1, 1000)]  # Adjusted step size\n",
        "predicted_facilities = model.predict(population_range)\n",
        "\n",
        "# Plot the scatter plot and regression line\n",
        "plt.scatter(population, facilities, color='blue', label='Actual Data')\n",
        "plt.plot(population_range, predicted_facilities, color='red', linewidth=2, label='Regression Line')\n",
        "\n",
        "plt.xlabel('Population')\n",
        "plt.ylabel('Number of Facilities')\n",
        "plt.title('Regression of Number of Facilities on Population')\n",
        "plt.legend()\n",
        "plt.grid(True)\n",
        "plt.show()"
      ]
    },
    {
      "cell_type": "markdown",
      "metadata": {
        "id": "NP8W2t90GMNy"
      },
      "source": [
        "With this we have established that:\n",
        "\n",
        "\n",
        "1.   As the population of a sub-county increases in Nairobi, the number of health facilities increases.\n",
        "2.   Most sub-counties in Nairobi meet the minimun health facility standards suggested by the kenyan government in 2020.\n",
        "\n"
      ]
    },
    {
      "cell_type": "markdown",
      "metadata": {
        "id": "1ipqQXVkGrZI"
      },
      "source": [
        "## Limitations\n",
        "* Data for some sub-counties was unavailable due to issues with how fields were named.\n",
        "* Due to the little amount of time we had to prepare, we could not go more indepth."
      ]
    },
    {
      "cell_type": "markdown",
      "metadata": {
        "id": "xAWJLGb6HCq-"
      },
      "source": [
        "## End Credits\n",
        "\n",
        "This is a notebook by: Kennedy, Paul, Pauline and Antony 👌"
      ]
    }
  ],
  "metadata": {
    "colab": {
      "provenance": []
    },
    "kernelspec": {
      "display_name": ".venv",
      "language": "python",
      "name": "python3"
    },
    "language_info": {
      "codemirror_mode": {
        "name": "ipython",
        "version": 3
      },
      "file_extension": ".py",
      "mimetype": "text/x-python",
      "name": "python",
      "nbconvert_exporter": "python",
      "pygments_lexer": "ipython3",
      "version": "3.10.12"
    }
  },
  "nbformat": 4,
  "nbformat_minor": 0
}
