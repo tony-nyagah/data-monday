{
 "cells": [
  {
   "cell_type": "code",
   "execution_count": null,
   "metadata": {},
   "outputs": [],
   "source": [
    "import matplotlib.pyplot as plt \n",
    "import pandas as pd\n",
    "\n",
    "# hide warnings\n",
    "import warnings\n",
    "warnings.filterwarnings(\"ignore\")"
   ]
  },
  {
   "cell_type": "code",
   "execution_count": null,
   "metadata": {},
   "outputs": [],
   "source": [
    "# read the data\n",
    "facilities_df = pd.read_excel(\"data/health-facilities-data-kenya.xlsx\")\n",
    "population_df = pd.read_csv(\"data/kenya-population-by-sex-and-county.csv\")"
   ]
  },
  {
   "cell_type": "code",
   "execution_count": null,
   "metadata": {},
   "outputs": [],
   "source": [
    "# get facility count per county\n",
    "facilities_value_counts = facilities_df.County.value_counts()\n",
    "facilities_count_df = pd.DataFrame(\n",
    "    {\n",
    "        \"County\": facilities_value_counts.index,\n",
    "        \"Number of Facilities\": facilities_value_counts.values,\n",
    "    }\n",
    ")\n",
    "# Sort the DataFrame by the number of facilities in descending order\n",
    "facilities_count_df = facilities_count_df.sort_values(\"Number of Facilities\", ascending=False)\n",
    "facilities_count_df"
   ]
  },
  {
   "cell_type": "code",
   "execution_count": null,
   "metadata": {},
   "outputs": [],
   "source": [
    "most_facilities = facilities_count_df.head(10).sort_values(by=\"Number of Facilities\", ascending=True)\n",
    "least_facilities = facilities_count_df.tail(10).sort_values(\n",
    "    by=\"Number of Facilities\", ascending=True\n",
    ")"
   ]
  },
  {
   "cell_type": "code",
   "execution_count": null,
   "metadata": {},
   "outputs": [],
   "source": [
    "# Create a figure with two subplots\n",
    "fig, (ax1, ax2) = plt.subplots(1, 2, figsize=(12, 5))\n",
    "\n",
    "# Plot the top 10 counties\n",
    "ax1.barh(most_facilities[\"County\"], most_facilities[\"Number of Facilities\"])\n",
    "ax1.set_title(\"Counties with Most Healthcare Facilities\")\n",
    "ax1.tick_params(axis=\"x\", rotation=90)\n",
    "\n",
    "# Plot the bottom 10 counties\n",
    "ax2.barh(least_facilities[\"County\"], least_facilities[\"Number of Facilities\"])\n",
    "ax2.set_title(\"Counties with Least Healthcare Facilities\")\n",
    "ax2.tick_params(axis=\"x\", rotation=90)\n",
    "\n",
    "plt.tight_layout()"
   ]
  }
 ],
 "metadata": {
  "kernelspec": {
   "display_name": ".venv",
   "language": "python",
   "name": "python3"
  },
  "language_info": {
   "codemirror_mode": {
    "name": "ipython",
    "version": 3
   },
   "file_extension": ".py",
   "mimetype": "text/x-python",
   "name": "python",
   "nbconvert_exporter": "python",
   "pygments_lexer": "ipython3",
   "version": "3.10.12"
  }
 },
 "nbformat": 4,
 "nbformat_minor": 2
}
