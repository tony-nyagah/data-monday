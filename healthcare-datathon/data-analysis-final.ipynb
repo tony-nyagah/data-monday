{
 "cells": [
  {
   "cell_type": "code",
   "execution_count": null,
   "metadata": {},
   "outputs": [],
   "source": [
    "# libraries\n",
    "from geopy.geocoders import Nominatim\n",
    "import pandas as pd\n",
    "import numpy as np\n",
    "import matplotlib.pyplot as plt\n",
    "import seaborn as sns\n",
    "import plotly.express as px\n",
    "import plotly.graph_objects as go\n",
    "\n",
    "# hide warnings\n",
    "import warnings\n",
    "warnings.filterwarnings(\"ignore\")"
   ]
  },
  {
   "cell_type": "code",
   "execution_count": null,
   "metadata": {},
   "outputs": [],
   "source": [
    "# read the data\n",
    "facilities_df = pd.read_excel(\"data/health-facilities-data-kenya.xlsx\")\n",
    "population_df = pd.read_csv(\"data/kenya-population-by-sex-and-county.csv\")"
   ]
  },
  {
   "cell_type": "code",
   "execution_count": null,
   "metadata": {},
   "outputs": [],
   "source": [
    "facilities_df.head()"
   ]
  },
  {
   "cell_type": "code",
   "execution_count": null,
   "metadata": {},
   "outputs": [],
   "source": [
    "population_df.rename(columns = {\"name\":\"County\", \"Male\": \"Male Population\", \"Female\": \"Female Population\", \"Intersex\": \"Intersex Population\", \"Total\": \"Total Population\"}, inplace = True)\n",
    "population_df.head()"
   ]
  },
  {
   "cell_type": "code",
   "execution_count": null,
   "metadata": {},
   "outputs": [],
   "source": [
    "# aAttach population data to facilities data\n",
    "# Create a new df called facilities_population_df\n",
    "facilities_population_df = facilities_df.merge(population_df, on=\"County\", how=\"left\")\n",
    "facilities_population_df.head()"
   ]
  },
  {
   "cell_type": "code",
   "execution_count": null,
   "metadata": {},
   "outputs": [],
   "source": [
    "# Get latitudes and longitudes for the facilities\n",
    "# This seems tricky\n",
    "geolocator = Nominatim(user_agent=\"kenya_healthcare\")\n",
    "\n",
    "# def get_coordinates(row):\n",
    "#     try:\n",
    "#         address = f\"{row['District']}, {row['County']}, Kenya\"\n",
    "#         location = geolocator.geocode(address)\n",
    "#         if location:\n",
    "#             return location.latitude, location.longitude\n",
    "#         else:\n",
    "#             return None, None\n",
    "#     except:\n",
    "#         return None, None\n",
    "\n",
    "# facilities_population_df[[\"latitude\", \"longitude\"]] = facilities_population_df.apply(\n",
    "#     get_coordinates, axis=1, result_type=\"expand\"\n",
    "# )\n",
    "# facilities_population_df.head()"
   ]
  },
  {
   "cell_type": "code",
   "execution_count": null,
   "metadata": {},
   "outputs": [],
   "source": [
    "# Lets' do something else\n",
    "# Get the unique District and County shit from our data\n",
    "facilities_population_df[[\"District\", \"County\"]].nunique()"
   ]
  },
  {
   "cell_type": "code",
   "execution_count": null,
   "metadata": {},
   "outputs": [],
   "source": [
    "# remove the Kenya row\n",
    "facilities_population_df = facilities_population_df[facilities_population_df[\"County\"] != \"Kenya\"]"
   ]
  },
  {
   "cell_type": "code",
   "execution_count": null,
   "metadata": {},
   "outputs": [],
   "source": [
    "# Let's make some visualizations\n",
    "# Counties with the most facilities\n",
    "facilities_population_df.County.value_counts(ascending=True)[:10].plot(\n",
    "    kind=\"barh\",\n",
    "    xlabel=\"Health Facility Count\",\n",
    "    title=\"Counties with the most health facilities\")"
   ]
  },
  {
   "cell_type": "code",
   "execution_count": null,
   "metadata": {},
   "outputs": [],
   "source": [
    "# Only Nairobi county\n",
    "facility_counts = facilities_df.Nairobi.value_counts"
   ]
  }
 ],
 "metadata": {
  "kernelspec": {
   "display_name": ".venv",
   "language": "python",
   "name": "python3"
  },
  "language_info": {
   "codemirror_mode": {
    "name": "ipython",
    "version": 3
   },
   "file_extension": ".py",
   "mimetype": "text/x-python",
   "name": "python",
   "nbconvert_exporter": "python",
   "pygments_lexer": "ipython3",
   "version": "3.10.12"
  }
 },
 "nbformat": 4,
 "nbformat_minor": 2
}
